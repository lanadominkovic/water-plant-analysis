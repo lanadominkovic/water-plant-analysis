{
 "cells": [
  {
   "cell_type": "code",
   "execution_count": 2,
   "id": "ea5da5ac-fc97-4394-a2f1-f86f45d29fa1",
   "metadata": {
    "execution": {
     "iopub.execute_input": "2023-09-05T13:56:21.154649Z",
     "iopub.status.busy": "2023-09-05T13:56:21.154271Z",
     "iopub.status.idle": "2023-09-05T13:56:26.217289Z",
     "shell.execute_reply": "2023-09-05T13:56:26.216652Z",
     "shell.execute_reply.started": "2023-09-05T13:56:21.154627Z"
    }
   },
   "outputs": [
    {
     "name": "stdout",
     "output_type": "stream",
     "text": [
      "Collecting pandas\n",
      "  Downloading pandas-2.1.0-cp310-cp310-macosx_11_0_arm64.whl (11.3 MB)\n",
      "\u001b[2K     \u001b[38;2;114;156;31m━━━━━━━━━━━━━━━━━━━━━━━━━━━━━━━━━━━━━━━━\u001b[0m \u001b[32m11.3/11.3 MB\u001b[0m \u001b[31m38.3 MB/s\u001b[0m eta \u001b[36m0:00:00\u001b[0mm eta \u001b[36m0:00:01\u001b[0m:01\u001b[0m:01\u001b[0m\n",
      "\u001b[?25hCollecting numpy>=1.22.4\n",
      "  Using cached numpy-1.25.2-cp310-cp310-macosx_11_0_arm64.whl (14.0 MB)\n",
      "Collecting tzdata>=2022.1\n",
      "  Using cached tzdata-2023.3-py2.py3-none-any.whl (341 kB)\n",
      "Requirement already satisfied: python-dateutil>=2.8.2 in ./env/lib/python3.10/site-packages (from pandas) (2.8.2)\n",
      "Collecting pytz>=2020.1\n",
      "  Downloading pytz-2023.3.post1-py2.py3-none-any.whl (502 kB)\n",
      "\u001b[2K     \u001b[38;2;114;156;31m━━━━━━━━━━━━━━━━━━━━━━━━━━━━━━━━━━━━━━\u001b[0m \u001b[32m502.5/502.5 KB\u001b[0m \u001b[31m29.2 MB/s\u001b[0m eta \u001b[36m0:00:00\u001b[0m\n",
      "\u001b[?25hRequirement already satisfied: six>=1.5 in ./env/lib/python3.10/site-packages (from python-dateutil>=2.8.2->pandas) (1.16.0)\n",
      "Installing collected packages: pytz, tzdata, numpy, pandas\n",
      "Successfully installed numpy-1.25.2 pandas-2.1.0 pytz-2023.3.post1 tzdata-2023.3\n",
      "\u001b[33mWARNING: You are using pip version 22.0.4; however, version 23.2.1 is available.\n",
      "You should consider upgrading via the '/Users/lanacaldarevic/workspace/phd/water-plant-analysis/env/bin/python3 -m pip install --upgrade pip' command.\u001b[0m\u001b[33m\n",
      "\u001b[0m"
     ]
    }
   ],
   "source": [
    "!pip install pandas"
   ]
  },
  {
   "cell_type": "code",
   "execution_count": 61,
   "id": "cfc08528",
   "metadata": {
    "tags": []
   },
   "outputs": [],
   "source": [
    "import pandas as pd\n",
    "import numpy as np"
   ]
  },
  {
   "cell_type": "markdown",
   "id": "12a9c055",
   "metadata": {},
   "source": [
    "```\n",
    "Inputs to the device are: dotok, pretok, kisik.\n",
    "dotok: t(d), Q(m3/d), T(C), COD(g/m3), NH4(g/m3), TN(g/m3), TSS(g/m3), TP(g /m3)\n",
    "pretok: time(d),Qintr(m3/d),Qr(m3/d), Qw(m3/d), Quprimary(m3/d),Quthickener(m3/d),Qodewatering(m3/d ),Qmetal(m3/d)\n",
    "kisik: t(d), DO5(g/m3), DO6(g/m3), DO6ref, DO7(g/m3)\n",
    "\n",
    "Outputs from the device are: iztok, kvaliteta, stroski.\n",
    "iztok: t(d), Q(m3/d), COD(g/m3), NH4(g/m3), TN(g/m3), TSS(g/m3), TP(g/m3) \n",
    "kvaliteta: t(d),EQI(kgPU/d)\n",
    "stroski: t(d), SC, AE, PE, ME, OCI \n",
    "\n",
    "```"
   ]
  },
  {
   "cell_type": "markdown",
   "id": "b998884b",
   "metadata": {},
   "source": [
    "```\n",
    "t is time, \n",
    "Q is flow, \n",
    "T is water temperature, \n",
    "COD organic matter (COD), \n",
    "NH4 ammonium nitrogen, \n",
    "TN total nitrogen, \n",
    "TSS insoluble matter (sludge), \n",
    "TP Total Phosphorus\n",
    "```"
   ]
  },
  {
   "cell_type": "code",
   "execution_count": 62,
   "id": "436739b3",
   "metadata": {
    "tags": []
   },
   "outputs": [],
   "source": [
    "df_inflow = pd.read_csv('data/dotok.txt', sep=\"   \", header=None, engine=\"python\")\n",
    "df_inflow.columns = ['t', 'Qi', 'T', 'CODi', 'NH4i', 'TNi', 'TSSi', 'TPi']"
   ]
  },
  {
   "cell_type": "markdown",
   "id": "6e72b34d",
   "metadata": {},
   "source": [
    "```\n",
    "Qintr Internal Recycle Flow, \n",
    "Qr External Recycle Flow, \n",
    "Qw Excess Sludge Flow, \n",
    "QuPrimary Sludge Flow from Primary Settler, \n",
    "Quthickener Sludge Flow from Thickener, \n",
    "Qodewatering Sludge Flow from Dehydrator, \n",
    "```"
   ]
  },
  {
   "cell_type": "code",
   "execution_count": 63,
   "id": "50aa48a6",
   "metadata": {
    "tags": []
   },
   "outputs": [],
   "source": [
    "df_flow = pd.read_csv('data/pretok.txt', sep=\"   \", header=None, engine=\"python\")\n",
    "df_flow.columns = ['t', 'Qintr', 'Qr', 'Qw', 'Quprimary', 'Quthickener', 'Qodewatering', 'Qmetal']\n",
    "df_flow.set_index('t', inplace=True)"
   ]
  },
  {
   "cell_type": "markdown",
   "id": "acf32eb0",
   "metadata": {},
   "source": [
    "```\n",
    "DO5 Oxygen in Pool 5, \n",
    "DO6 Oxygen in Pool 6\n",
    "DO6ref oxygen set-point in pool 6, \n",
    "DO7 oxygen in pool 7, \n",
    "\n",
    "```"
   ]
  },
  {
   "cell_type": "code",
   "execution_count": 64,
   "id": "03f91926",
   "metadata": {
    "tags": []
   },
   "outputs": [],
   "source": [
    "df_oxygen = pd.read_csv('data/kisik.txt', sep=\"   \", header=None, engine=\"python\")\n",
    "df_oxygen.columns = ['t', 'DO5', 'DO6', 'DO6ref', 'DO7']\n",
    "df_oxygen.set_index('t', inplace=True)"
   ]
  },
  {
   "cell_type": "code",
   "execution_count": 65,
   "id": "2bf47d67",
   "metadata": {
    "tags": []
   },
   "outputs": [],
   "source": [
    "df_outflow = pd.read_csv('data/iztok.txt', sep=\"   \", header=None, engine=\"python\")\n",
    "df_outflow.columns = ['t' ,'Qo', 'CODo', 'NH4o', 'TNo', 'TSSo', 'TPo']\n",
    "df_outflow['t'] = df_inflow['t']\n",
    "df_inflow.set_index('t', inplace=True)\n",
    "df_outflow.set_index('t', inplace=True)"
   ]
  },
  {
   "cell_type": "code",
   "execution_count": 66,
   "id": "82a487f3",
   "metadata": {
    "tags": []
   },
   "outputs": [
    {
     "data": {
      "text/html": [
       "<div>\n",
       "<style scoped>\n",
       "    .dataframe tbody tr th:only-of-type {\n",
       "        vertical-align: middle;\n",
       "    }\n",
       "\n",
       "    .dataframe tbody tr th {\n",
       "        vertical-align: top;\n",
       "    }\n",
       "\n",
       "    .dataframe thead th {\n",
       "        text-align: right;\n",
       "    }\n",
       "</style>\n",
       "<table border=\"1\" class=\"dataframe\">\n",
       "  <thead>\n",
       "    <tr style=\"text-align: right;\">\n",
       "      <th></th>\n",
       "      <th>Qo</th>\n",
       "      <th>CODo</th>\n",
       "      <th>NH4o</th>\n",
       "      <th>TNo</th>\n",
       "      <th>TSSo</th>\n",
       "      <th>TPo</th>\n",
       "    </tr>\n",
       "    <tr>\n",
       "      <th>t</th>\n",
       "      <th></th>\n",
       "      <th></th>\n",
       "      <th></th>\n",
       "      <th></th>\n",
       "      <th></th>\n",
       "      <th></th>\n",
       "    </tr>\n",
       "  </thead>\n",
       "  <tbody>\n",
       "    <tr>\n",
       "      <th>0.000000</th>\n",
       "      <td>15310.074</td>\n",
       "      <td>40.747287</td>\n",
       "      <td>0.134206</td>\n",
       "      <td>8.547754</td>\n",
       "      <td>12.446315</td>\n",
       "      <td>1.151249</td>\n",
       "    </tr>\n",
       "    <tr>\n",
       "      <th>0.010417</th>\n",
       "      <td>14574.638</td>\n",
       "      <td>40.562989</td>\n",
       "      <td>0.134080</td>\n",
       "      <td>8.554336</td>\n",
       "      <td>12.214636</td>\n",
       "      <td>1.124317</td>\n",
       "    </tr>\n",
       "    <tr>\n",
       "      <th>0.020833</th>\n",
       "      <td>14065.519</td>\n",
       "      <td>40.397727</td>\n",
       "      <td>0.133868</td>\n",
       "      <td>8.561917</td>\n",
       "      <td>12.003069</td>\n",
       "      <td>1.099661</td>\n",
       "    </tr>\n",
       "    <tr>\n",
       "      <th>0.031250</th>\n",
       "      <td>13665.758</td>\n",
       "      <td>40.259636</td>\n",
       "      <td>0.133560</td>\n",
       "      <td>8.570511</td>\n",
       "      <td>11.819984</td>\n",
       "      <td>1.077628</td>\n",
       "    </tr>\n",
       "    <tr>\n",
       "      <th>0.041667</th>\n",
       "      <td>13314.130</td>\n",
       "      <td>40.148434</td>\n",
       "      <td>0.133149</td>\n",
       "      <td>8.579520</td>\n",
       "      <td>11.664954</td>\n",
       "      <td>1.058173</td>\n",
       "    </tr>\n",
       "    <tr>\n",
       "      <th>...</th>\n",
       "      <td>...</td>\n",
       "      <td>...</td>\n",
       "      <td>...</td>\n",
       "      <td>...</td>\n",
       "      <td>...</td>\n",
       "      <td>...</td>\n",
       "    </tr>\n",
       "    <tr>\n",
       "      <th>363.947920</th>\n",
       "      <td>14236.261</td>\n",
       "      <td>40.616090</td>\n",
       "      <td>0.148899</td>\n",
       "      <td>9.372274</td>\n",
       "      <td>11.866729</td>\n",
       "      <td>1.226980</td>\n",
       "    </tr>\n",
       "    <tr>\n",
       "      <th>363.958330</th>\n",
       "      <td>13464.764</td>\n",
       "      <td>40.430510</td>\n",
       "      <td>0.149850</td>\n",
       "      <td>9.360392</td>\n",
       "      <td>11.648107</td>\n",
       "      <td>1.203165</td>\n",
       "    </tr>\n",
       "    <tr>\n",
       "      <th>363.968750</th>\n",
       "      <td>12843.180</td>\n",
       "      <td>40.257301</td>\n",
       "      <td>0.150506</td>\n",
       "      <td>9.350149</td>\n",
       "      <td>11.443239</td>\n",
       "      <td>1.181034</td>\n",
       "    </tr>\n",
       "    <tr>\n",
       "      <th>363.979170</th>\n",
       "      <td>12463.804</td>\n",
       "      <td>40.106560</td>\n",
       "      <td>0.150881</td>\n",
       "      <td>9.341653</td>\n",
       "      <td>11.262719</td>\n",
       "      <td>1.161120</td>\n",
       "    </tr>\n",
       "    <tr>\n",
       "      <th>363.989580</th>\n",
       "      <td>12213.494</td>\n",
       "      <td>39.984806</td>\n",
       "      <td>0.150987</td>\n",
       "      <td>9.334841</td>\n",
       "      <td>11.113281</td>\n",
       "      <td>1.143755</td>\n",
       "    </tr>\n",
       "  </tbody>\n",
       "</table>\n",
       "<p>34944 rows × 6 columns</p>\n",
       "</div>"
      ],
      "text/plain": [
       "                   Qo       CODo      NH4o       TNo       TSSo       TPo\n",
       "t                                                                        \n",
       "0.000000    15310.074  40.747287  0.134206  8.547754  12.446315  1.151249\n",
       "0.010417    14574.638  40.562989  0.134080  8.554336  12.214636  1.124317\n",
       "0.020833    14065.519  40.397727  0.133868  8.561917  12.003069  1.099661\n",
       "0.031250    13665.758  40.259636  0.133560  8.570511  11.819984  1.077628\n",
       "0.041667    13314.130  40.148434  0.133149  8.579520  11.664954  1.058173\n",
       "...               ...        ...       ...       ...        ...       ...\n",
       "363.947920  14236.261  40.616090  0.148899  9.372274  11.866729  1.226980\n",
       "363.958330  13464.764  40.430510  0.149850  9.360392  11.648107  1.203165\n",
       "363.968750  12843.180  40.257301  0.150506  9.350149  11.443239  1.181034\n",
       "363.979170  12463.804  40.106560  0.150881  9.341653  11.262719  1.161120\n",
       "363.989580  12213.494  39.984806  0.150987  9.334841  11.113281  1.143755\n",
       "\n",
       "[34944 rows x 6 columns]"
      ]
     },
     "execution_count": 66,
     "metadata": {},
     "output_type": "execute_result"
    }
   ],
   "source": [
    "df_outflow"
   ]
  },
  {
   "cell_type": "markdown",
   "id": "79801df6",
   "metadata": {},
   "source": [
    "```\n",
    "EQI effluent quality\n",
    "```"
   ]
  },
  {
   "cell_type": "code",
   "execution_count": 67,
   "id": "516e046c",
   "metadata": {
    "tags": []
   },
   "outputs": [],
   "source": [
    "df_quality = pd.read_csv('data/kvaliteta.txt', sep=\"   \", header=None, engine=\"python\")\n",
    "df_quality.columns = ['t', 'EQI']\n",
    "df_quality.set_index('t', inplace=True)"
   ]
  },
  {
   "cell_type": "markdown",
   "id": "bf6224b7",
   "metadata": {},
   "source": [
    "```\n",
    "SC sludge costs, \n",
    "AE aeration costs, \n",
    "PE pump costs, \n",
    "ME methane production, \n",
    "OCI operating costs\n",
    "```"
   ]
  },
  {
   "cell_type": "code",
   "execution_count": 68,
   "id": "5d74bff2",
   "metadata": {
    "tags": []
   },
   "outputs": [],
   "source": [
    "df_cost = pd.read_csv('data/stroski.txt', sep=\"   \", header=None, engine=\"python\")\n",
    "df_cost.columns = ['t', 'SC', 'AE', 'PE', 'ME', 'OCI']\n",
    "df_cost.set_index('t', inplace=True)"
   ]
  },
  {
   "cell_type": "code",
   "execution_count": 69,
   "id": "4f1ac4cf-f1b8-4102-a0fb-8a370d9d920d",
   "metadata": {
    "tags": []
   },
   "outputs": [],
   "source": [
    "df = pd.concat([df_inflow, df_flow, df_oxygen, df_outflow, df_quality, df_cost], axis=1)"
   ]
  },
  {
   "cell_type": "code",
   "execution_count": 70,
   "id": "42eb7c82-858e-4f26-870e-68f573cf7c7d",
   "metadata": {
    "tags": []
   },
   "outputs": [],
   "source": [
    "df = df.reset_index()"
   ]
  },
  {
   "cell_type": "code",
   "execution_count": 71,
   "id": "246ff48e-181e-4d72-a717-404206a8ed84",
   "metadata": {
    "tags": []
   },
   "outputs": [],
   "source": [
    "df['EQI_original'] = df.EQI * df.Qo / np.mean(df.Qo)"
   ]
  },
  {
   "cell_type": "markdown",
   "id": "b17c57ea",
   "metadata": {},
   "source": [
    "Sampling time is 0.01 d\n",
    "\n",
    "Qintr, Qw, Qr, DO6ref vary randomly around preset values (+/- 10%).\n",
    "\n",
    "We are interested in relations between inputs and outputs. Namely, we want to make a decision tree model for EQI(kgPU/d) and OCI primarily. It will be fine if you make a comparison between several models made with different algorithms - random forests, SVM, NN, etc. You can try it yourself first, and then we can meet on Zoom to see how you are doing and how to continue.\n",
    "\n",
    "We are interested in feature engineering. This step consists of extracting a relevant feature subset to be used as input for models in further stages. You may use the ReliefF algorithm to select the variables that have the most influence on the results, which are compared using accuracy.\n"
   ]
  },
  {
   "cell_type": "markdown",
   "id": "07994108",
   "metadata": {},
   "source": [
    "1.\n",
    "- modelling for EQI and OCI\n",
    "\n",
    "2.\n",
    "- feature engineering"
   ]
  },
  {
   "cell_type": "markdown",
   "id": "71e3c657",
   "metadata": {},
   "source": [
    "### Data preparation\n",
    "Samling time is 0.01 d = 0.01 * 24h = 0.24 h * 60 min = 14.4 min. \n",
    "\n",
    "\n",
    "Every 14.4 minutes above variables were measured during 1 year. Average on hourly basis.\n",
    "\n",
    "Treating plant as black box and only looking at dotok.txt and kvaliteta.txt with delay 0, 12 and 24 hours."
   ]
  },
  {
   "cell_type": "code",
   "execution_count": 72,
   "id": "4580ded4-1f65-4eb7-b4d3-4f8db7f7a316",
   "metadata": {
    "tags": []
   },
   "outputs": [
    {
     "data": {
      "text/plain": [
       "8736"
      ]
     },
     "execution_count": 72,
     "metadata": {},
     "output_type": "execute_result"
    }
   ],
   "source": [
    "df_hourly = df.groupby(np.arange(len(df))//4).mean()\n",
    "len(df_hourly)"
   ]
  },
  {
   "cell_type": "code",
   "execution_count": 73,
   "id": "c7626bb3-f868-4792-a2f2-2b1f575ddd9b",
   "metadata": {
    "tags": []
   },
   "outputs": [],
   "source": [
    "df_hourly.to_csv('data/df_hourly.csv', index=False)"
   ]
  },
  {
   "cell_type": "markdown",
   "id": "f11ae676",
   "metadata": {},
   "source": [
    "### EDA\n",
    "\n",
    "#### 1. No delay dataset"
   ]
  },
  {
   "cell_type": "code",
   "execution_count": 94,
   "id": "374708a7",
   "metadata": {},
   "outputs": [
    {
     "name": "stdout",
     "output_type": "stream",
     "text": [
      "<class 'pandas.core.frame.DataFrame'>\n",
      "Int64Index: 8736 entries, 0 to 8735\n",
      "Data columns (total 8 columns):\n",
      " #   Column       Non-Null Count  Dtype  \n",
      "---  ------       --------------  -----  \n",
      " 0   Q(m3/d)      8736 non-null   float64\n",
      " 1   T(C)         8736 non-null   float64\n",
      " 2   COD(g/m3)    8736 non-null   float64\n",
      " 3   NH4(g/m3)    8736 non-null   float64\n",
      " 4   TN(g/m3)     8736 non-null   float64\n",
      " 5   TSS(g/m3)    8736 non-null   float64\n",
      " 6   TP(g/m3)     8736 non-null   float64\n",
      " 7   EQI(kgPU/d)  8736 non-null   float64\n",
      "dtypes: float64(8)\n",
      "memory usage: 872.3 KB\n"
     ]
    }
   ],
   "source": [
    "df_no_delay.info()"
   ]
  },
  {
   "cell_type": "code",
   "execution_count": 95,
   "id": "b3df8ceb",
   "metadata": {},
   "outputs": [
    {
     "data": {
      "text/html": [
       "<div>\n",
       "<style scoped>\n",
       "    .dataframe tbody tr th:only-of-type {\n",
       "        vertical-align: middle;\n",
       "    }\n",
       "\n",
       "    .dataframe tbody tr th {\n",
       "        vertical-align: top;\n",
       "    }\n",
       "\n",
       "    .dataframe thead th {\n",
       "        text-align: right;\n",
       "    }\n",
       "</style>\n",
       "<table border=\"1\" class=\"dataframe\">\n",
       "  <thead>\n",
       "    <tr style=\"text-align: right;\">\n",
       "      <th></th>\n",
       "      <th>Q(m3/d)</th>\n",
       "      <th>T(C)</th>\n",
       "      <th>COD(g/m3)</th>\n",
       "      <th>NH4(g/m3)</th>\n",
       "      <th>TN(g/m3)</th>\n",
       "      <th>TSS(g/m3)</th>\n",
       "      <th>TP(g/m3)</th>\n",
       "      <th>EQI(kgPU/d)</th>\n",
       "    </tr>\n",
       "  </thead>\n",
       "  <tbody>\n",
       "    <tr>\n",
       "      <th>count</th>\n",
       "      <td>8736.000000</td>\n",
       "      <td>8736.000000</td>\n",
       "      <td>8736.000000</td>\n",
       "      <td>8736.000000</td>\n",
       "      <td>8736.000000</td>\n",
       "      <td>8736.000000</td>\n",
       "      <td>8736.000000</td>\n",
       "      <td>8736.000000</td>\n",
       "    </tr>\n",
       "    <tr>\n",
       "      <th>mean</th>\n",
       "      <td>20935.404468</td>\n",
       "      <td>15.000011</td>\n",
       "      <td>660.541785</td>\n",
       "      <td>24.152434</td>\n",
       "      <td>50.385861</td>\n",
       "      <td>372.932378</td>\n",
       "      <td>9.746738</td>\n",
       "      <td>7307.962283</td>\n",
       "    </tr>\n",
       "    <tr>\n",
       "      <th>std</th>\n",
       "      <td>8447.445331</td>\n",
       "      <td>3.553348</td>\n",
       "      <td>225.681250</td>\n",
       "      <td>9.934189</td>\n",
       "      <td>16.916709</td>\n",
       "      <td>130.703440</td>\n",
       "      <td>3.341566</td>\n",
       "      <td>1016.927881</td>\n",
       "    </tr>\n",
       "    <tr>\n",
       "      <th>min</th>\n",
       "      <td>6500.850000</td>\n",
       "      <td>9.500000</td>\n",
       "      <td>58.150000</td>\n",
       "      <td>1.800000</td>\n",
       "      <td>6.360000</td>\n",
       "      <td>30.480000</td>\n",
       "      <td>1.200000</td>\n",
       "      <td>4032.500000</td>\n",
       "    </tr>\n",
       "    <tr>\n",
       "      <th>25%</th>\n",
       "      <td>14856.515000</td>\n",
       "      <td>11.480000</td>\n",
       "      <td>491.097500</td>\n",
       "      <td>16.710000</td>\n",
       "      <td>37.450000</td>\n",
       "      <td>270.520000</td>\n",
       "      <td>7.220000</td>\n",
       "      <td>6587.522500</td>\n",
       "    </tr>\n",
       "    <tr>\n",
       "      <th>50%</th>\n",
       "      <td>19819.645000</td>\n",
       "      <td>15.000000</td>\n",
       "      <td>676.840000</td>\n",
       "      <td>23.290000</td>\n",
       "      <td>51.180000</td>\n",
       "      <td>386.120000</td>\n",
       "      <td>9.790000</td>\n",
       "      <td>7179.375000</td>\n",
       "    </tr>\n",
       "    <tr>\n",
       "      <th>75%</th>\n",
       "      <td>25315.220000</td>\n",
       "      <td>18.520000</td>\n",
       "      <td>820.997500</td>\n",
       "      <td>30.542500</td>\n",
       "      <td>62.380000</td>\n",
       "      <td>462.885000</td>\n",
       "      <td>12.170000</td>\n",
       "      <td>7942.952500</td>\n",
       "    </tr>\n",
       "    <tr>\n",
       "      <th>max</th>\n",
       "      <td>76253.990000</td>\n",
       "      <td>20.500000</td>\n",
       "      <td>1333.020000</td>\n",
       "      <td>57.760000</td>\n",
       "      <td>101.070000</td>\n",
       "      <td>778.460000</td>\n",
       "      <td>20.910000</td>\n",
       "      <td>11624.330000</td>\n",
       "    </tr>\n",
       "  </tbody>\n",
       "</table>\n",
       "</div>"
      ],
      "text/plain": [
       "            Q(m3/d)         T(C)    COD(g/m3)    NH4(g/m3)     TN(g/m3)  \\\n",
       "count   8736.000000  8736.000000  8736.000000  8736.000000  8736.000000   \n",
       "mean   20935.404468    15.000011   660.541785    24.152434    50.385861   \n",
       "std     8447.445331     3.553348   225.681250     9.934189    16.916709   \n",
       "min     6500.850000     9.500000    58.150000     1.800000     6.360000   \n",
       "25%    14856.515000    11.480000   491.097500    16.710000    37.450000   \n",
       "50%    19819.645000    15.000000   676.840000    23.290000    51.180000   \n",
       "75%    25315.220000    18.520000   820.997500    30.542500    62.380000   \n",
       "max    76253.990000    20.500000  1333.020000    57.760000   101.070000   \n",
       "\n",
       "         TSS(g/m3)     TP(g/m3)   EQI(kgPU/d)  \n",
       "count  8736.000000  8736.000000   8736.000000  \n",
       "mean    372.932378     9.746738   7307.962283  \n",
       "std     130.703440     3.341566   1016.927881  \n",
       "min      30.480000     1.200000   4032.500000  \n",
       "25%     270.520000     7.220000   6587.522500  \n",
       "50%     386.120000     9.790000   7179.375000  \n",
       "75%     462.885000    12.170000   7942.952500  \n",
       "max     778.460000    20.910000  11624.330000  "
      ]
     },
     "execution_count": 95,
     "metadata": {},
     "output_type": "execute_result"
    }
   ],
   "source": [
    "df_no_delay.describe()"
   ]
  },
  {
   "cell_type": "code",
   "execution_count": 97,
   "id": "a70c26c9",
   "metadata": {},
   "outputs": [
    {
     "data": {
      "image/png": "[encoded data removed]",
      "text/plain": [
       "<Figure size 2000x1500 with 9 Axes>"
      ]
     },
     "metadata": {},
     "output_type": "display_data"
    }
   ],
   "source": [
    "%matplotlib inline\n",
    "import matplotlib.pyplot as plt\n",
    "df_no_delay.hist(bins=50, figsize=(20,15))\n",
    "plt.show()"
   ]
  },
  {
   "cell_type": "markdown",
   "id": "96ef7817",
   "metadata": {},
   "source": [
    "### Modeling EQI - no delay"
   ]
  },
  {
   "cell_type": "code",
   "execution_count": 108,
   "id": "a9b12aa5",
   "metadata": {},
   "outputs": [],
   "source": [
    "X = df_no_delay[['T(C)', 'COD(g/m3)', 'NH4(g/m3)', 'TN(g/m3)', 'TSS(g/m3)', 'TP(g/m3)']]\n",
    "y = df_no_delay['EQI(kgPU/d)']"
   ]
  },
  {
   "cell_type": "code",
   "execution_count": 109,
   "id": "63d10f17",
   "metadata": {},
   "outputs": [],
   "source": [
    "from sklearn.model_selection import train_test_split\n",
    "\n",
    "X_train, X_test, y_train, y_test = train_test_split(X, y, test_size=0.1)"
   ]
  },
  {
   "cell_type": "code",
   "execution_count": 100,
   "id": "b1675db7",
   "metadata": {},
   "outputs": [
    {
     "data": {
      "text/plain": [
       "'\\nfrom sklearn.model_selection import train_test_split\\n\\ntrain_ratio = 0.9\\nvalidation_ratio = 0.05\\ntest_ratio = 0.05\\n\\n\\nX_train, X_test, y_train, y_test = train_test_split(X, y, test_size=1 - train_ratio)\\nX_val, X_test, y_val, y_test = train_test_split(X_test, y_test, test_size=test_ratio/(test_ratio + validation_ratio)) \\n'"
      ]
     },
     "execution_count": 100,
     "metadata": {},
     "output_type": "execute_result"
    }
   ],
   "source": [
    "\"\"\"\n",
    "from sklearn.model_selection import train_test_split\n",
    "\n",
    "train_ratio = 0.9\n",
    "validation_ratio = 0.05\n",
    "test_ratio = 0.05\n",
    "\n",
    "\n",
    "X_train, X_test, y_train, y_test = train_test_split(X, y, test_size=1 - train_ratio)\n",
    "X_val, X_test, y_val, y_test = train_test_split(X_test, y_test, test_size=test_ratio/(test_ratio + validation_ratio)) \n",
    "\"\"\""
   ]
  },
  {
   "cell_type": "code",
   "execution_count": 105,
   "id": "af0d29f5",
   "metadata": {},
   "outputs": [
    {
     "name": "stdout",
     "output_type": "stream",
     "text": [
      "540395.3977918227\n",
      "735.1159077260012\n",
      "0.465904150700576\n"
     ]
    }
   ],
   "source": [
    "from sklearn.ensemble import RandomForestRegressor\n",
    "from sklearn.metrics import mean_squared_error, r2_score\n",
    "\n",
    "rnd_clf = RandomForestRegressor()\n",
    "rnd_clf.fit(X_train, y_train)\n",
    "y_pred_rf = rnd_clf.predict(X_test)\n",
    "mse = mean_squared_error(y_test, y_pred_rf)\n",
    "rmse = mse**.5\n",
    "print(mse)\n",
    "print(rmse)\n",
    "r2 = r2_score(y_test, y_pred_rf)\n",
    "print(r2)"
   ]
  },
  {
   "cell_type": "code",
   "execution_count": 110,
   "id": "8b37fe78",
   "metadata": {},
   "outputs": [
    {
     "name": "stdout",
     "output_type": "stream",
     "text": [
      "981156.9242859001\n",
      "990.533656311536\n",
      "0.030139670527689066\n"
     ]
    }
   ],
   "source": [
    "from sklearn.svm import SVR\n",
    "\n",
    "\n",
    "svr = SVR()\n",
    "svr.fit(X_train, y_train)\n",
    "y_pred_svm = svr.predict(X_test)\n",
    "mse = mean_squared_error(y_test, y_pred_svm)\n",
    "rmse = mse**.5\n",
    "print(mse)\n",
    "print(rmse)\n",
    "r2 = r2_score(y_test, y_pred_svm)\n",
    "print(r2)"
   ]
  },
  {
   "cell_type": "markdown",
   "id": "238dae94",
   "metadata": {},
   "source": [
    "### Modeling EQI - 12h delay"
   ]
  },
  {
   "cell_type": "code",
   "execution_count": 106,
   "id": "d02c6e48",
   "metadata": {},
   "outputs": [
    {
     "name": "stdout",
     "output_type": "stream",
     "text": [
      "587755.2671193457\n",
      "766.6519856619076\n",
      "0.464937645826453\n"
     ]
    }
   ],
   "source": [
    "X = df_12h_delay[['T(C)', 'COD(g/m3)', 'NH4(g/m3)', 'TN(g/m3)', 'TSS(g/m3)', 'TP(g/m3)']]\n",
    "y = df_12h_delay['EQI(kgPU/d)']\n",
    "\n",
    "X_train, X_test, y_train, y_test = train_test_split(X, y, test_size=0.1)\n",
    "rnd_clf = RandomForestRegressor()\n",
    "rnd_clf.fit(X_train, y_train)\n",
    "y_pred_rf = rnd_clf.predict(X_test)\n",
    "mse = mean_squared_error(y_test, y_pred_rf)\n",
    "rmse = mse**.5\n",
    "print(mse)\n",
    "print(rmse)\n",
    "r2 = r2_score(y_test, y_pred_rf)\n",
    "print(r2)"
   ]
  },
  {
   "cell_type": "markdown",
   "id": "aca412fd",
   "metadata": {},
   "source": [
    "### Modeling EQI - 24h delay"
   ]
  },
  {
   "cell_type": "code",
   "execution_count": 107,
   "id": "1db05168",
   "metadata": {},
   "outputs": [
    {
     "name": "stdout",
     "output_type": "stream",
     "text": [
      "394808.00106182386\n",
      "628.337489779039\n",
      "0.6091995945127415\n"
     ]
    }
   ],
   "source": [
    "X = df_24h_delay[['T(C)', 'COD(g/m3)', 'NH4(g/m3)', 'TN(g/m3)', 'TSS(g/m3)', 'TP(g/m3)']]\n",
    "y = df_24h_delay['EQI(kgPU/d)']\n",
    "\n",
    "X_train, X_test, y_train, y_test = train_test_split(X, y, test_size=0.1)\n",
    "rnd_clf = RandomForestRegressor()\n",
    "rnd_clf.fit(X_train, y_train)\n",
    "y_pred_rf = rnd_clf.predict(X_test)\n",
    "mse = mean_squared_error(y_test, y_pred_rf)\n",
    "rmse = mse**.5\n",
    "print(mse)\n",
    "print(rmse)\n",
    "r2 = r2_score(y_test, y_pred_rf)\n",
    "print(r2)"
   ]
  }
 ],
 "metadata": {
  "kernelspec": {
   "display_name": "Python wwtp-env",
   "language": "python",
   "name": "wwtp-env"
  },
  "language_info": {
   "codemirror_mode": {
    "name": "ipython",
    "version": 3
   },
   "file_extension": ".py",
   "mimetype": "text/x-python",
   "name": "python",
   "nbconvert_exporter": "python",
   "pygments_lexer": "ipython3",
   "version": "3.10.4"
  }
 },
 "nbformat": 4,
 "nbformat_minor": 5
}
